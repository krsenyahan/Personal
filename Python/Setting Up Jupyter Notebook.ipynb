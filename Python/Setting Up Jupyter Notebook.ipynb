{
 "cells": [
  {
   "cell_type": "code",
   "execution_count": null,
   "metadata": {},
   "outputs": [],
   "source": [
    "# Reference: https://buildmedia.readthedocs.org/media/pdf/jupyter-notebook-beginner-guide/latest/jupyter-notebook-beginner-guide.pdf\n",
    "# Change Jupyter Notebook startup folder (Windows)\n",
    "# • Copy the Jupyter Notebook launcher from the menu to the desktop. \n",
    "# • Right click on the new launcher and click Properties\n",
    "# • In the Shortcut tab, change %USERPROFILE% to the full path of the folder which will contain all the notebooks found in the change the Target ﬁeld. \n",
    "# • Double-click on the Jupyter Notebook desktop launcher (icon shows [IPy]) to start the Jupyter Notebook App. The notebook interface will appear in a new browser window or tab. A secondary terminal window (used only for error logging and for shut down) will be also opened."
   ]
  }
 ],
 "metadata": {
  "kernelspec": {
   "display_name": "Python 3",
   "language": "python",
   "name": "python3"
  },
  "language_info": {
   "codemirror_mode": {
    "name": "ipython",
    "version": 3
   },
   "file_extension": ".py",
   "mimetype": "text/x-python",
   "name": "python",
   "nbconvert_exporter": "python",
   "pygments_lexer": "ipython3",
   "version": "3.7.3"
  }
 },
 "nbformat": 4,
 "nbformat_minor": 2
}
